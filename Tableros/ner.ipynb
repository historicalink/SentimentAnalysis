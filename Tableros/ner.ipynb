{
 "cells": [
  {
   "cell_type": "code",
   "execution_count": 31,
   "metadata": {},
   "outputs": [
    {
     "data": {
      "text/html": [
       "<div>\n",
       "<style scoped>\n",
       "    .dataframe tbody tr th:only-of-type {\n",
       "        vertical-align: middle;\n",
       "    }\n",
       "\n",
       "    .dataframe tbody tr th {\n",
       "        vertical-align: top;\n",
       "    }\n",
       "\n",
       "    .dataframe thead th {\n",
       "        text-align: right;\n",
       "    }\n",
       "</style>\n",
       "<table border=\"1\" class=\"dataframe\">\n",
       "  <thead>\n",
       "    <tr style=\"text-align: right;\">\n",
       "      <th></th>\n",
       "      <th>file</th>\n",
       "      <th>Año</th>\n",
       "      <th>Periódico</th>\n",
       "      <th>Ciudad</th>\n",
       "      <th>Texto</th>\n",
       "      <th>Sentimiento</th>\n",
       "      <th>predictions</th>\n",
       "      <th>negative_probs</th>\n",
       "      <th>neutral_probs</th>\n",
       "      <th>positive_probs</th>\n",
       "      <th>ironic_probs</th>\n",
       "      <th>Texto_Lematizado</th>\n",
       "      <th>Sustantivos</th>\n",
       "    </tr>\n",
       "  </thead>\n",
       "  <tbody>\n",
       "    <tr>\n",
       "      <th>0</th>\n",
       "      <td>../../Datos/19th_century_Latam_Newspapers_1/PF...</td>\n",
       "      <td>1870</td>\n",
       "      <td>Los loros</td>\n",
       "      <td>Popayán</td>\n",
       "      <td>publicacion semanal  ignoramos si sus restos f...</td>\n",
       "      <td>NEUTRO</td>\n",
       "      <td>1.0</td>\n",
       "      <td>9.996460</td>\n",
       "      <td>55.532199</td>\n",
       "      <td>33.521801</td>\n",
       "      <td>0.949539</td>\n",
       "      <td>['publicacion', 'semanal', 'ignorar', 'resto',...</td>\n",
       "      <td>['restos', 'fin', 'soldados', 'puestos', 'comb...</td>\n",
       "    </tr>\n",
       "    <tr>\n",
       "      <th>1</th>\n",
       "      <td>../../Datos/19th_century_Latam_Newspapers_1/PF...</td>\n",
       "      <td>1870</td>\n",
       "      <td>Los loros</td>\n",
       "      <td>Popayán</td>\n",
       "      <td>se presente en su oficina el que monto en la g...</td>\n",
       "      <td>NEUTRO</td>\n",
       "      <td>1.0</td>\n",
       "      <td>17.339712</td>\n",
       "      <td>63.219225</td>\n",
       "      <td>18.328328</td>\n",
       "      <td>1.112728</td>\n",
       "      <td>['presentar', 'oficina', 'monto', 'gallina', '...</td>\n",
       "      <td>['oficina', 'monto', 'gallina', 'miedo', 'desp...</td>\n",
       "    </tr>\n",
       "    <tr>\n",
       "      <th>2</th>\n",
       "      <td>../../Datos/19th_century_Latam_Newspapers_1/PF...</td>\n",
       "      <td>1870</td>\n",
       "      <td>Los loros</td>\n",
       "      <td>Popayán</td>\n",
       "      <td>de baron de las tenazas, a don agustin castill...</td>\n",
       "      <td>POSITIVO</td>\n",
       "      <td>2.0</td>\n",
       "      <td>7.059140</td>\n",
       "      <td>42.583779</td>\n",
       "      <td>49.531049</td>\n",
       "      <td>0.826027</td>\n",
       "      <td>['bar', 'tenaza', 'don', 'agustin', 'castillo'...</td>\n",
       "      <td>['tenazas', 'don', 'agustin', 'castillo', 'mar...</td>\n",
       "    </tr>\n",
       "    <tr>\n",
       "      <th>3</th>\n",
       "      <td>../../Datos/19th_century_Latam_Newspapers_1/PF...</td>\n",
       "      <td>1870</td>\n",
       "      <td>Los loros</td>\n",
       "      <td>Popayán</td>\n",
       "      <td>al articulo presente, en una oracion ferviente...</td>\n",
       "      <td>POSITIVO</td>\n",
       "      <td>2.0</td>\n",
       "      <td>6.416973</td>\n",
       "      <td>21.443181</td>\n",
       "      <td>71.021354</td>\n",
       "      <td>1.118488</td>\n",
       "      <td>['articulo', 'presente', 'oracion', 'ferviente...</td>\n",
       "      <td>['articulo', 'oracion', 'satanas', 'jamas', 'i...</td>\n",
       "    </tr>\n",
       "    <tr>\n",
       "      <th>4</th>\n",
       "      <td>../../Datos/19th_century_Latam_Newspapers_1/PF...</td>\n",
       "      <td>1870</td>\n",
       "      <td>Los loros</td>\n",
       "      <td>Popayán</td>\n",
       "      <td>quien es el que desde aca tantas noticias envi...</td>\n",
       "      <td>NEUTRO</td>\n",
       "      <td>1.0</td>\n",
       "      <td>11.500288</td>\n",
       "      <td>60.579348</td>\n",
       "      <td>27.018249</td>\n",
       "      <td>0.902115</td>\n",
       "      <td>['aca', 'tanto', 'noticia', 'envia', 'adivinar...</td>\n",
       "      <td>['noticias', 'nadie', 'ano', 'plazo', 'bribona...</td>\n",
       "    </tr>\n",
       "  </tbody>\n",
       "</table>\n",
       "</div>"
      ],
      "text/plain": [
       "                                                file   Año  Periódico  \\\n",
       "0  ../../Datos/19th_century_Latam_Newspapers_1/PF...  1870  Los loros   \n",
       "1  ../../Datos/19th_century_Latam_Newspapers_1/PF...  1870  Los loros   \n",
       "2  ../../Datos/19th_century_Latam_Newspapers_1/PF...  1870  Los loros   \n",
       "3  ../../Datos/19th_century_Latam_Newspapers_1/PF...  1870  Los loros   \n",
       "4  ../../Datos/19th_century_Latam_Newspapers_1/PF...  1870  Los loros   \n",
       "\n",
       "    Ciudad                                              Texto Sentimiento  \\\n",
       "0  Popayán  publicacion semanal  ignoramos si sus restos f...      NEUTRO   \n",
       "1  Popayán  se presente en su oficina el que monto en la g...      NEUTRO   \n",
       "2  Popayán  de baron de las tenazas, a don agustin castill...    POSITIVO   \n",
       "3  Popayán  al articulo presente, en una oracion ferviente...    POSITIVO   \n",
       "4  Popayán  quien es el que desde aca tantas noticias envi...      NEUTRO   \n",
       "\n",
       "   predictions  negative_probs  neutral_probs  positive_probs  ironic_probs  \\\n",
       "0          1.0        9.996460      55.532199       33.521801      0.949539   \n",
       "1          1.0       17.339712      63.219225       18.328328      1.112728   \n",
       "2          2.0        7.059140      42.583779       49.531049      0.826027   \n",
       "3          2.0        6.416973      21.443181       71.021354      1.118488   \n",
       "4          1.0       11.500288      60.579348       27.018249      0.902115   \n",
       "\n",
       "                                    Texto_Lematizado  \\\n",
       "0  ['publicacion', 'semanal', 'ignorar', 'resto',...   \n",
       "1  ['presentar', 'oficina', 'monto', 'gallina', '...   \n",
       "2  ['bar', 'tenaza', 'don', 'agustin', 'castillo'...   \n",
       "3  ['articulo', 'presente', 'oracion', 'ferviente...   \n",
       "4  ['aca', 'tanto', 'noticia', 'envia', 'adivinar...   \n",
       "\n",
       "                                         Sustantivos  \n",
       "0  ['restos', 'fin', 'soldados', 'puestos', 'comb...  \n",
       "1  ['oficina', 'monto', 'gallina', 'miedo', 'desp...  \n",
       "2  ['tenazas', 'don', 'agustin', 'castillo', 'mar...  \n",
       "3  ['articulo', 'oracion', 'satanas', 'jamas', 'i...  \n",
       "4  ['noticias', 'nadie', 'ano', 'plazo', 'bribona...  "
      ]
     },
     "execution_count": 31,
     "metadata": {},
     "output_type": "execute_result"
    }
   ],
   "source": [
    "import spacy\n",
    "from collections import Counter\n",
    "import pandas as pd\n",
    "from tqdm import tqdm\n",
    "\n",
    "# Load Spacy's Spanish NER model\n",
    "nlp = spacy.load(\"es_core_news_sm\")\n",
    "\n",
    "# Load the data\n",
    "file_path = '../Resultados/Beto_tagged.csv'\n",
    "data = pd.read_csv(file_path, delimiter=';')\n",
    "\n",
    "columns_to_drop = data.filter(like='Unnamed').columns\n",
    "data = data.drop(columns=columns_to_drop)\n",
    "data.head()"
   ]
  },
  {
   "cell_type": "code",
   "execution_count": 30,
   "metadata": {},
   "outputs": [
    {
     "name": "stderr",
     "output_type": "stream",
     "text": [
      "16960it [10:45, 26.28it/s]\n"
     ]
    }
   ],
   "source": [
    "def add_nouns_to_data(data):\n",
    "\n",
    "    # Initialize a list to hold all nouns\n",
    "    all_nouns = []\n",
    "\n",
    "    # Process each text to extract nouns\n",
    "    for row in tqdm(data.iterrows()):\n",
    "        text = row[1]['Texto']\n",
    "        doc = nlp(text)\n",
    "        nouns = [token.text for token in doc if token.pos_ in ['NOUN', 'PROPN']]\n",
    "        all_nouns.append(nouns)\n",
    "    data['Sustantivos'] = all_nouns\n",
    "\n",
    "add_nouns_to_data(data)\n",
    "data.to_csv('../Resultados/Beto_tagged.csv', sep=';')"
   ]
  },
  {
   "cell_type": "code",
   "execution_count": 55,
   "metadata": {},
   "outputs": [
    {
     "name": "stdout",
     "output_type": "stream",
     "text": [
      "Sustantivos que aparecen en todos los textos: []\n",
      "Los 30 sustantivos más comunes: [('_', 240), ('pueblo', 142), ('dia', 136), ('gobierno', 130), ('parte', 128), ('hombre', 114), ('hombres', 113), ('partido', 113), ('tiempo', 108), ('vida', 103), ('guerra', 100), ('vez', 99), ('republica', 99), ('madre', 97), ('estado', 95), ('casa', 87), ('anos', 85), ('nombre', 85), ('dios', 85), ('doctor', 83), ('amor', 80), ('fin', 79), ('don', 75), ('colombia', 75), ('mundo', 74), ('camarilla', 71), ('patria', 70), ('periodico', 69), ('corazon', 68), ('derecho', 68)]\n"
     ]
    }
   ],
   "source": [
    "def extract_n_most_common_nouns(data, n=30, min_year=None, max_year=None):\n",
    "    # Copia el DataFrame para evitar modificar el original\n",
    "    df_filtrado = data.copy()\n",
    "\n",
    "    # Filtra por año si se especifica\n",
    "    if min_year:\n",
    "        df_filtrado = df_filtrado[df_filtrado['Año'] >= min_year]\n",
    "    if max_year:\n",
    "        df_filtrado = df_filtrado[df_filtrado['Año'] <= max_year]\n",
    "\n",
    "    # Extrae los sustantivos de la columna 'Sustantivos'\n",
    "    all_nouns = []\n",
    "    for item in df_filtrado['Sustantivos']:\n",
    "        # Convierte la cadena de texto a una lista de sustantivos\n",
    "        text = item[1:-1].replace(\"'\", \"\").split(\", \")\n",
    "        all_nouns.extend(text)\n",
    "\n",
    "    # Cuenta la frecuencia de cada sustantivo\n",
    "    noun_freq = Counter(all_nouns)\n",
    "\n",
    "    # Encuentra los sustantivos que aparecen en todos los textos\n",
    "    common_nouns = [noun for noun, freq in noun_freq.items() if freq == len(df_filtrado)]\n",
    "\n",
    "    # Obtiene los n sustantivos más comunes\n",
    "    most_common_nouns = noun_freq.most_common(n)\n",
    "\n",
    "    return common_nouns, most_common_nouns\n",
    "\n",
    "# Ejemplo de uso\n",
    "common_nouns, most_common_nouns = extract_n_most_common_nouns(data, n=30, min_year=1870, max_year=1880)\n",
    "\n",
    "print(\"Sustantivos que aparecen en todos los textos:\", common_nouns)\n",
    "print(\"Los 30 sustantivos más comunes:\", most_common_nouns)"
   ]
  },
  {
   "cell_type": "code",
   "execution_count": 56,
   "metadata": {},
   "outputs": [
    {
     "data": {
      "text/plain": [
       "[('d.', 3409),\n",
       " ('tiempo', 3091),\n",
       " ('gobierno', 2959),\n",
       " ('parte', 2888),\n",
       " ('dia', 2756),\n",
       " ('vida', 2701),\n",
       " ('hombre', 2362),\n",
       " ('doctor', 2337),\n",
       " ('bogota', 2293),\n",
       " ('ciudad', 2279),\n",
       " ('vez', 2269),\n",
       " ('anos', 2204),\n",
       " ('nombre', 2081),\n",
       " ('pueblo', 2034),\n",
       " ('hombres', 2016),\n",
       " ('patria', 1986),\n",
       " ('colombia', 1979),\n",
       " ('fin', 1902),\n",
       " ('numero', 1888),\n",
       " ('senor', 1838),\n",
       " ('casa', 1837),\n",
       " ('general', 1835),\n",
       " ('ano', 1808),\n",
       " ('republica', 1763),\n",
       " ('pais', 1751),\n",
       " ('mundo', 1663),\n",
       " ('alli', 1645),\n",
       " ('dios', 1600),\n",
       " ('muerte', 1481),\n",
       " ('obra', 1475)]"
      ]
     },
     "execution_count": 56,
     "metadata": {},
     "output_type": "execute_result"
    }
   ],
   "source": [
    "common_nouns, most_common_nouns = extract_n_most_common_nouns(data)\n",
    "most_common_nouns"
   ]
  },
  {
   "cell_type": "code",
   "execution_count": 58,
   "metadata": {},
   "outputs": [
    {
     "data": {
      "text/plain": [
       "([], [('u.', 120), ('oso', 80), ('nacion', 80), ('palabra', 78), ('modo', 76)])"
      ]
     },
     "execution_count": 58,
     "metadata": {},
     "output_type": "execute_result"
    }
   ],
   "source": [
    "extract_n_most_common_nouns(data, n=5, min_year=1845, max_year=1845)"
   ]
  },
  {
   "cell_type": "code",
   "execution_count": 44,
   "metadata": {},
   "outputs": [],
   "source": [
    "all_nouns = []\n",
    "for item in data.Sustantivos:\n",
    "    text = item[2:-2]\n",
    "    text = text.split(\"','\")\n",
    "    all_nouns.extend(text)"
   ]
  },
  {
   "cell_type": "code",
   "execution_count": 45,
   "metadata": {},
   "outputs": [
    {
     "name": "stdout",
     "output_type": "stream",
     "text": [
      "16967\n"
     ]
    }
   ],
   "source": [
    "print(len(all_nouns))"
   ]
  },
  {
   "cell_type": "code",
   "execution_count": null,
   "metadata": {},
   "outputs": [],
   "source": []
  }
 ],
 "metadata": {
  "kernelspec": {
   "display_name": "tesis",
   "language": "python",
   "name": "python3"
  },
  "language_info": {
   "codemirror_mode": {
    "name": "ipython",
    "version": 3
   },
   "file_extension": ".py",
   "mimetype": "text/x-python",
   "name": "python",
   "nbconvert_exporter": "python",
   "pygments_lexer": "ipython3",
   "version": "3.11.9"
  }
 },
 "nbformat": 4,
 "nbformat_minor": 2
}
